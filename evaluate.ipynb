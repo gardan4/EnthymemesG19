{
 "cells": [
  {
   "cell_type": "code",
   "id": "2fe7092497deeb29",
   "metadata": {
    "collapsed": true,
    "ExecuteTime": {
     "end_time": "2024-11-21T16:30:59.021945Z",
     "start_time": "2024-11-21T16:30:54.435356Z"
    }
   },
   "source": [
    "import torch\n",
    "import evaluate\n",
    "import os\n",
    "\n",
    "def load_texts(file_path):\n",
    "    \"\"\"\n",
    "    Load texts from a file and return as a list of stripped strings.\n",
    "    \"\"\"\n",
    "    with open(file_path, 'r', encoding='utf-8') as f:\n",
    "        return [line.strip() for line in f.readlines()]\n",
    "\n",
    "def main():\n",
    "    # Paths to your data files\n",
    "    source_path = 'D3test/ikatdata.source'\n",
    "    target_path = 'D3test/ikatdata.target'\n",
    "    generated_hypo_path = 'D3test/ikatdata.hypo'\n",
    "    \n",
    "    # Check if files exist\n",
    "    for path in [source_path, target_path, generated_hypo_path]:\n",
    "        if not os.path.exists(path):\n",
    "            raise FileNotFoundError(f\"File not found: {path}\")\n",
    "\n",
    "    # Load the datasets\n",
    "    source_texts = load_texts(source_path)\n",
    "    target_texts = load_texts(target_path)\n",
    "    generated_hypo_texts = load_texts(generated_hypo_path)\n",
    "\n",
    "    # Validate that all datasets have the same number of samples\n",
    "    if not (len(source_texts) == len(target_texts) == len(generated_hypo_texts)):\n",
    "        raise ValueError(\"Source, target, and generated hypothesis files must have the same number of lines.\")\n",
    "\n",
    "    # Initialize metrics\n",
    "    bleu = evaluate.load('bleu')\n",
    "    bertscore = evaluate.load('bertscore')\n",
    "\n",
    "    # Compute BLEU-1\n",
    "    bleu1 = bleu.compute(\n",
    "        predictions=generated_hypo_texts,\n",
    "        references=[[ref] for ref in target_texts],\n",
    "        max_order=1\n",
    "    )\n",
    "    \n",
    "    # Compute BLEU-2\n",
    "    bleu2 = bleu.compute(\n",
    "        predictions=generated_hypo_texts,\n",
    "        references=[[ref] for ref in target_texts],\n",
    "        max_order=2\n",
    "    )\n",
    "    \n",
    "    # Compute BERTScore\n",
    "    bs = bertscore.compute(\n",
    "        predictions=generated_hypo_texts,\n",
    "        references=target_texts,\n",
    "        lang='en',\n",
    "        model_type='bert-base-uncased'\n",
    "    )\n",
    "\n",
    "    # Display the results\n",
    "    print(\"\\n=== Evaluation Results ===\")\n",
    "    print(f\"BLEU-1 Score: {bleu1['bleu'] * 100:.2f}\")\n",
    "    print(f\"BLEU-2 Score: {bleu2['bleu'] * 100:.2f}\")\n",
    "    print(f\"BERTScore Precision: {sum(bs['precision']) / len(bs['precision']) * 100:.2f}\")\n",
    "    print(f\"BERTScore Recall: {sum(bs['recall']) / len(bs['recall']) * 100:.2f}\")\n",
    "    print(f\"BERTScore F1: {sum(bs['f1']) / len(bs['f1']) * 100:.2f}\")\n",
    "\n",
    "if __name__ == \"__main__\":\n",
    "    main()\n"
   ],
   "outputs": [
    {
     "name": "stdout",
     "output_type": "stream",
     "text": [
      "\n",
      "=== Evaluation Results ===\n",
      "BLEU-1 Score: 79.76\n",
      "BLEU-2 Score: 76.58\n",
      "BERTScore Precision: 88.89\n",
      "BERTScore Recall: 89.72\n",
      "BERTScore F1: 89.26\n"
     ]
    }
   ],
   "execution_count": 16
  },
  {
   "metadata": {},
   "cell_type": "code",
   "outputs": [],
   "execution_count": null,
   "source": "",
   "id": "11dec62223fc0f72"
  }
 ],
 "metadata": {
  "kernelspec": {
   "display_name": "Python 3",
   "language": "python",
   "name": "python3"
  },
  "language_info": {
   "codemirror_mode": {
    "name": "ipython",
    "version": 2
   },
   "file_extension": ".py",
   "mimetype": "text/x-python",
   "name": "python",
   "nbconvert_exporter": "python",
   "pygments_lexer": "ipython2",
   "version": "2.7.6"
  }
 },
 "nbformat": 4,
 "nbformat_minor": 5
}
